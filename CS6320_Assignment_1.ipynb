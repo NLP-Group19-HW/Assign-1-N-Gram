{
  "nbformat": 4,
  "nbformat_minor": 0,
  "metadata": {
    "colab": {
      "provenance": []
    },
    "kernelspec": {
      "name": "python3",
      "display_name": "Python 3"
    },
    "language_info": {
      "name": "python"
    }
  },
  "cells": [
    {
      "cell_type": "markdown",
      "source": [
        "# Model\n",
        "\n",
        "This is the full model, with all functions written inside the main class function. Detailed explaination of steps will be listed below in separate sections to run in individual Jupyter Notebook cells."
      ],
      "metadata": {
        "id": "r8bfgexGyC80"
      }
    },
    {
      "cell_type": "code",
      "source": [
        "import re\n",
        "from collections import defaultdict\n",
        "import math\n",
        "\n",
        "class NGramLanguageModel:\n",
        "    def __init__(self, n=2):\n",
        "        self.n = n\n",
        "        self.ngram_counts = defaultdict(int)\n",
        "        self.context_counts = defaultdict(int)\n",
        "        self.vocab = set()\n",
        "\n",
        "    def preprocess(self, text):\n",
        "        # Preserve 'US' by replacing it with a placeholder before any transformation\n",
        "        input = re.sub(r'\\bUS\\b', 'US_placeholder', text)\n",
        "\n",
        "        # Convert input to lowercase but preserve \"US\"\n",
        "        input_lower = input.lower()\n",
        "\n",
        "        # Handle prices to preserve the number before '/'\n",
        "        input_lower = re.sub(r'\\b(\\d+)/([a-zA-Z]+)', r'\\1 per \\2', input_lower)  # Separate number from '/night' or similar, replace / to per\n",
        "\n",
        "        # Simplify URLs to a placeholder\n",
        "        input_lower = re.sub(r'//[^ ]+', 'URL', input_lower)\n",
        "\n",
        "        # Split phrases like attractions/shopping into separate words\n",
        "        input_lower = re.sub(r'(\\D+)/(\\D+)', r'\\1 \\2', input_lower)  # Tokenize phrases separated by '/'\n",
        "\n",
        "        # Now replace 'us' with lowercase and handle special cases\n",
        "        input_lower = re.sub(r'\\bus\\b', 'us', input_lower)  # Ensure 'us' remains as 'us'\n",
        "\n",
        "        # Replace dates with the token 'calendardate'\n",
        "        input_lower = re.sub(r'\\b(\\d{1,2})/(\\d{1,2})/(\\d{2,4})\\b', 'calendardate', input_lower)  # Match dates like 9/5/2009\n",
        "\n",
        "        # Restore 'US' from the placeholder\n",
        "        input_lower = input_lower.replace('us_placeholder', 'US')\n",
        "\n",
        "        # Replace n't, 'll, 's, 're, 've\n",
        "        input_lower = input_lower.replace('n\\'t', 'not')\n",
        "        input_lower = input_lower.replace('\\'ll', 'will')\n",
        "        input_lower = input_lower.replace('\\'s', 'is')\n",
        "        input_lower = input_lower.replace('\\'re', 'are')\n",
        "        input_lower = input_lower.replace('\\'ve', 'have')\n",
        "\n",
        "        # Remove special characters but keep whitespace and alpha\n",
        "        cleaned = ''.join(char for char in input_lower if char.isalpha() or char in \"' /\")  # Space included to separate words\n",
        "\n",
        "        return cleaned.strip().split()\n",
        "\n",
        "    def train(self, corpus):\n",
        "        for line in corpus:\n",
        "            tokens = self.preprocess(line)\n",
        "            self.vocab.update(tokens)\n",
        "\n",
        "            # Loop through each character and loop through previous characters for n > 1\n",
        "            for i in range(len(tokens)):\n",
        "                for j in range(1, self.n + 1):\n",
        "                    if i + j <= len(tokens):    # Prevent overflow\n",
        "                        ngram = tuple(tokens[i:i+j])\n",
        "                        self.ngram_counts[ngram] += 1\n",
        "                        if j > 1:\n",
        "                            self.context_counts[ngram[:-1]] += 1\n",
        "            # Make sure last token is added\n",
        "            if self.n > 1:\n",
        "                self.ngram_counts[tuple(tokens[-self.n:])] += 1\n",
        "\n",
        "    def unsmoothed_probability(self, ngram):\n",
        "        if len(ngram) == 1:\n",
        "            total_count = sum(self.ngram_counts[t] for t in self.ngram_counts if len(t) == 1)\n",
        "            return self.ngram_counts[ngram] / total_count if total_count > 0 else 0\n",
        "        else:\n",
        "            context = ngram[:-1]\n",
        "            return self.ngram_counts[ngram] / self.context_counts[context] if self.context_counts[context] > 0 else 0\n",
        "\n",
        "    def add_k_smoothing(self, ngram, k=0.1):\n",
        "        if len(ngram) == 1:\n",
        "            return (self.ngram_counts[ngram] + k) / (sum(self.ngram_counts[t] for t in self.ngram_counts if len(t) == 1) + k * len(self.vocab))\n",
        "        else:\n",
        "            context = ngram[:-1]\n",
        "            return (self.ngram_counts[ngram] + k) / (self.context_counts[context] + k * len(self.vocab))\n",
        "\n",
        "    def laplace_smoothing(self, ngram):\n",
        "        return self.add_k_smoothing(ngram, k=1)\n",
        "\n",
        "    def handle_unknown_words(self, word):\n",
        "        return \"<UNK>\" if word not in self.vocab else word\n",
        "\n",
        "    def perplexity(self, test_corpus, smoothing_method='', k=1):\n",
        "        log_prob_sum = 0\n",
        "        token_count = 0\n",
        "\n",
        "        for line in test_corpus:\n",
        "            tokens = self.preprocess(line)\n",
        "            tokens = [self.handle_unknown_words(token) for token in tokens]\n",
        "            token_count += len(tokens)\n",
        "\n",
        "            for i in range(len(tokens)):\n",
        "                context = tuple(tokens[max(0, i-self.n+1):i])\n",
        "                ngram = context + (tokens[i],)\n",
        "\n",
        "                if smoothing_method == 'laplace':\n",
        "                    prob = self.laplace_smoothing(ngram)\n",
        "                elif smoothing_method == 'add_k':\n",
        "                    prob = self.add_k_smoothing(ngram, k)\n",
        "                else:\n",
        "                    prob = self.unsmoothed_probability(ngram)\n",
        "\n",
        "                if prob > 0:\n",
        "                    log_prob_sum += math.log(prob)\n",
        "                else:\n",
        "                    # Handle zero probability by assigning a very low log probability\n",
        "                    log_prob_sum += math.log(1e-10)\n",
        "\n",
        "        return math.exp(-log_prob_sum / token_count)\n",
        "\n",
        "    def top_unigram_probabilities(self, n=10):\n",
        "        unigram_probs = [(unigram[0], self.unsmoothed_probability(unigram))\n",
        "                         for unigram in self.ngram_counts if len(unigram) == 1]\n",
        "\n",
        "        return sorted(unigram_probs, key=lambda x: x[1], reverse=True)[:n]\n",
        "\n",
        "    def test_one(self, term, smoothing_method='', k=1):\n",
        "        if smoothing_method == 'laplace':\n",
        "            return self.laplace_smoothing(term)\n",
        "        elif smoothing_method == 'add_k':\n",
        "            return self.add_k_smoothing(term, k)\n",
        "        else:\n",
        "            return self.unsmoothed_probability(term)"
      ],
      "metadata": {
        "id": "uKJ1BwR5yL5s"
      },
      "execution_count": null,
      "outputs": []
    },
    {
      "cell_type": "markdown",
      "source": [
        "# Data Loading/Preprocessing\n",
        "\n",
        "Upload the `A1_DATASET.zip` file from eLearning to the files.\n",
        "\n"
      ],
      "metadata": {
        "id": "FC2eyodGc7uh"
      }
    },
    {
      "cell_type": "code",
      "source": [
        "!unzip -o A1_DATASET.zip"
      ],
      "metadata": {
        "colab": {
          "base_uri": "https://localhost:8080/"
        },
        "id": "44wUwHgWyFGD",
        "outputId": "cf5b4a4e-be4e-4c95-de29-04adb43c4daf"
      },
      "execution_count": null,
      "outputs": [
        {
          "output_type": "stream",
          "name": "stdout",
          "text": [
            "Archive:  A1_DATASET.zip\n",
            "   creating: A1_DATASET/\n",
            "  inflating: A1_DATASET/.DS_Store    \n",
            "  inflating: __MACOSX/A1_DATASET/._.DS_Store  \n",
            "  inflating: A1_DATASET/train.txt    \n",
            "  inflating: __MACOSX/A1_DATASET/._train.txt  \n",
            "  inflating: A1_DATASET/val.txt      \n",
            "  inflating: __MACOSX/A1_DATASET/._val.txt  \n"
          ]
        }
      ]
    },
    {
      "cell_type": "code",
      "source": [
        "# Load training data\n",
        "with open('A1_DATASET/train.txt', 'r', encoding='utf-8') as f:\n",
        "    train_corpus = f.readlines()\n",
        "\n",
        "# Load validation data\n",
        "with open('A1_DATASET/val.txt', 'r', encoding='utf-8') as f:\n",
        "    validation_corpus = f.readlines()"
      ],
      "metadata": {
        "id": "hfo-6Wbb7rY6"
      },
      "execution_count": null,
      "outputs": []
    },
    {
      "cell_type": "markdown",
      "source": [
        "## Preprocessing Explaination\n",
        "\n",
        "- Keep alphabetic characters (convert all to lowercase) but keep `US` still `US city` rather than `us city`\n",
        "- Process `'` (singular apostrophes) for contractions -- in the data, we see a lot of `n't`, `'ll`, `'d` etc. These can be important for context.\n",
        "  - Replace `n't` to `not`, `'ll` to `will`, `'re` to `are`, `'ve` to `have` but keep `'d` unchanged since `'d`can not only be `would`, but also `had`, if not consider the whole sentence and contex, hard to decide.\n",
        "- Process `/` (forward slashes) -- this is because there are 5 cases that forward slashes would be used:\n",
        "    - Between numbers in fractions, like `1/2`\n",
        "    - Between words used as \"or\" (eg. `clean/friendly`, `Housekeeping/Turn Down Service`), alternative words\n",
        "    - Date, like `11/20`, or `11/13/2010`\n",
        "    - Price, like `$ 58/night`\n",
        "    - web link, like `//hotels.com`\n",
        "- Remove all other characters\n",
        "- Trim all remaining strings and filter out those that are empty\n",
        "\n",
        "This pre-processing step will happen on each line of the dataset, whenever training or validation happens.\n",
        "\n",
        "## Training\n",
        "\n",
        "The \"training\" of this model is really just getting the counts of ngrams, as well as the counts of the respective \"contexts\" of the ngrams. For unigrams, this isn't needed as we simply divide by the total number of unique terms, but for unigrams we do need to keep track of the unigram prior, which is the context of the bigram in this case."
      ],
      "metadata": {
        "id": "bVFFKfcox_kI"
      }
    },
    {
      "cell_type": "code",
      "source": [
        "# Train unigram model\n",
        "unigram_model = NGramLanguageModel(n=1)\n",
        "unigram_model.train(train_corpus)\n",
        "\n",
        "# Train bigram model\n",
        "bigram_model = NGramLanguageModel(n=2)\n",
        "bigram_model.train(train_corpus)"
      ],
      "metadata": {
        "id": "_PzfszQu8CG_"
      },
      "execution_count": null,
      "outputs": []
    },
    {
      "cell_type": "code",
      "source": [
        "unigram_model.top_unigram_probabilities()"
      ],
      "metadata": {
        "colab": {
          "base_uri": "https://localhost:8080/"
        },
        "id": "811iA2OWyiaW",
        "outputId": "52155a7b-ea79-4ab3-d00c-82ba90fa5312"
      },
      "execution_count": null,
      "outputs": [
        {
          "output_type": "execute_result",
          "data": {
            "text/plain": [
              "[('the', 0.06719557943830477),\n",
              " ('and', 0.03288806651120349),\n",
              " ('a', 0.028490317347662983),\n",
              " ('to', 0.026487884010950015),\n",
              " ('was', 0.023142046030619486),\n",
              " ('i', 0.021709925986008315),\n",
              " ('in', 0.01598144580756362),\n",
              " ('we', 0.014156443272837878),\n",
              " ('is', 0.013319983777755246),\n",
              " ('of', 0.01325661563418838)]"
            ]
          },
          "metadata": {},
          "execution_count": 12
        }
      ]
    },
    {
      "cell_type": "code",
      "source": [
        "bigram_model.test_one(('the', 'room'))"
      ],
      "metadata": {
        "colab": {
          "base_uri": "https://localhost:8080/"
        },
        "id": "4o4JG-_sylLe",
        "outputId": "eb0d9652-0fe7-4dd3-c403-be1d7066e21d"
      },
      "execution_count": null,
      "outputs": [
        {
          "output_type": "execute_result",
          "data": {
            "text/plain": [
              "0.055649877381626106"
            ]
          },
          "metadata": {},
          "execution_count": 13
        }
      ]
    },
    {
      "cell_type": "code",
      "source": [
        "bigram_model.test_one(('the', 'hotel'))"
      ],
      "metadata": {
        "colab": {
          "base_uri": "https://localhost:8080/"
        },
        "id": "tQd1yirIBby1",
        "outputId": "2f68885d-2d63-4c8a-c77e-f6f66d772923"
      },
      "execution_count": null,
      "outputs": [
        {
          "output_type": "execute_result",
          "data": {
            "text/plain": [
              "0.07866440294284098"
            ]
          },
          "metadata": {},
          "execution_count": 14
        }
      ]
    },
    {
      "cell_type": "code",
      "source": [
        "bigram_model.test_one(('hotel', 'is'))"
      ],
      "metadata": {
        "colab": {
          "base_uri": "https://localhost:8080/"
        },
        "id": "wHu7WFlnBWT3",
        "outputId": "22a4d09e-11b6-485e-b12f-ceb17af751ad"
      },
      "execution_count": null,
      "outputs": [
        {
          "output_type": "execute_result",
          "data": {
            "text/plain": [
              "0.11904761904761904"
            ]
          },
          "metadata": {},
          "execution_count": 15
        }
      ]
    },
    {
      "cell_type": "code",
      "source": [
        "print(unigram_model.ngram_counts[('heartbeat',)])\n",
        "print(bigram_model.context_counts[('heartbeat',)])"
      ],
      "metadata": {
        "colab": {
          "base_uri": "https://localhost:8080/"
        },
        "id": "vqgNGOAw2EM3",
        "outputId": "40f60edd-1d83-4fac-8621-347f280d57ba"
      },
      "execution_count": null,
      "outputs": [
        {
          "output_type": "stream",
          "name": "stdout",
          "text": [
            "1\n",
            "0\n"
          ]
        }
      ]
    },
    {
      "cell_type": "markdown",
      "source": [
        "# Unsmoothed N-grams\n",
        "\n",
        "We have calculated the unigram and bigram counts of the training set, stored in their respective counts array. We will then use these counts to calculate the perplexity of the model, without doing any smoothing. For all unknown words, we assign a very low log-probability so we don't end up with infinities when taking the log."
      ],
      "metadata": {
        "id": "RVx4tQr3c1aa"
      }
    },
    {
      "cell_type": "code",
      "source": [
        "# Calculate perplexity for unigram model\n",
        "unigram_perplexity = unigram_model.perplexity(train_corpus)\n",
        "print(f\"Unsmoothed Unigram model perplexity: {unigram_perplexity}\")\n",
        "\n",
        "# Calculate perplexity for bigram model\n",
        "bigram_perplexity = bigram_model.perplexity(train_corpus)\n",
        "print(f\"Unsmoothed Bigram model perplexity: {bigram_perplexity}\")"
      ],
      "metadata": {
        "colab": {
          "base_uri": "https://localhost:8080/"
        },
        "id": "RpAOKWXQPYkh",
        "outputId": "8408a307-2b31-49c9-9b1c-da7ef944419b"
      },
      "execution_count": null,
      "outputs": [
        {
          "output_type": "stream",
          "name": "stdout",
          "text": [
            "Unsmoothed Unigram model perplexity: 494.2791347604311\n",
            "Unsmoothed Bigram model perplexity: 30.782797233064187\n"
          ]
        }
      ]
    },
    {
      "cell_type": "code",
      "source": [
        "# Calculate perplexity for unigram model\n",
        "unigram_perplexity = unigram_model.perplexity(validation_corpus)\n",
        "print(f\"Unsmoothed Unigram model perplexity: {unigram_perplexity}\")\n",
        "\n",
        "# Calculate perplexity for bigram model\n",
        "bigram_perplexity = bigram_model.perplexity(validation_corpus)\n",
        "print(f\"Unsmoothed Bigram model perplexity: {bigram_perplexity}\")"
      ],
      "metadata": {
        "colab": {
          "base_uri": "https://localhost:8080/"
        },
        "id": "cbeZLGSt9ahe",
        "outputId": "54e04b2f-2414-4a94-a9f5-b0bb9584f5ac"
      },
      "execution_count": null,
      "outputs": [
        {
          "output_type": "stream",
          "name": "stdout",
          "text": [
            "Unsmoothed Unigram model perplexity: 720.5399781710248\n",
            "Unsmoothed Bigram model perplexity: 25582.713906712\n"
          ]
        }
      ]
    },
    {
      "cell_type": "code",
      "source": [
        "small_corpus = [\"the hotel is\\n\"]\n",
        "bigram_model.perplexity(small_corpus)"
      ],
      "metadata": {
        "colab": {
          "base_uri": "https://localhost:8080/"
        },
        "id": "aPBHo9lcBHJ6",
        "outputId": "c63568f7-be56-4198-c73b-098fcb900b73"
      },
      "execution_count": null,
      "outputs": [
        {
          "output_type": "execute_result",
          "data": {
            "text/plain": [
              "11.669532127678092"
            ]
          },
          "metadata": {},
          "execution_count": 19
        }
      ]
    },
    {
      "cell_type": "markdown",
      "source": [
        "# Smoothing\n",
        "\n",
        "To handle unknown words, we replace them with the `<UNK>` keyword. To perform smoothing, we use Laplace Smoothing as well as a series of add-k smoothing, with differing values of k."
      ],
      "metadata": {
        "id": "c6S3YGbhj7UL"
      }
    },
    {
      "cell_type": "code",
      "source": [
        "# Calculate perplexity for bigram model with laplace smoothing\n",
        "bigram_laplace_perplexity = bigram_model.perplexity(train_corpus, smoothing_method='laplace')\n",
        "print(f\"Bigram model perplexity with Laplace smoothing: {bigram_laplace_perplexity}\")\n",
        "\n",
        "bigram_add_k_perplexity = bigram_model.perplexity(train_corpus, smoothing_method='add_k', k=0.01)\n",
        "print(f\"Bigram model perplexity with add-k (k=0.01) smoothing: {bigram_add_k_perplexity}\")"
      ],
      "metadata": {
        "colab": {
          "base_uri": "https://localhost:8080/"
        },
        "id": "EGW-aYpKq4Tt",
        "outputId": "bd58205b-826a-4daf-ef1c-850de80ee94b"
      },
      "execution_count": null,
      "outputs": [
        {
          "output_type": "stream",
          "name": "stdout",
          "text": [
            "Bigram model perplexity with Laplace smoothing: 892.7137929570828\n",
            "Bigram model perplexity with add-k (k=0.01) smoothing: 66.08598207678958\n"
          ]
        }
      ]
    },
    {
      "cell_type": "code",
      "source": [
        "# Calculate perplexity for unigram model with laplace smoothing\n",
        "unigram_laplace_perplexity = unigram_model.perplexity(validation_corpus, smoothing_method='laplace')\n",
        "print(f\"Unigram model perplexity with Laplace smoothing: {unigram_laplace_perplexity}\")\n",
        "\n",
        "# Calculate perplexity for bigram model with laplace smoothing\n",
        "bigram_laplace_perplexity = bigram_model.perplexity(validation_corpus, smoothing_method='laplace')\n",
        "print(f\"Bigram model perplexity with Laplace smoothing: {bigram_laplace_perplexity}\")\n",
        "\n",
        "# Calculate perplexity for unigram model with add-k smoothing (of different k values\n",
        "unigram_add_k_perplexity = unigram_model.perplexity(validation_corpus, smoothing_method='add_k', k=0.1)\n",
        "print(f\"Unigram model perplexity with add-k (k=0.1) smoothing: {unigram_add_k_perplexity}\")\n",
        "\n",
        "unigram_add_005_perplexity = unigram_model.perplexity(validation_corpus, smoothing_method='add_k', k=0.05)\n",
        "print(f\"Unigram model perplexity with add-k (k=0.05) smoothing: {unigram_add_k_perplexity}\")\n",
        "\n",
        "# Calculate perplexity for bigram model with add-k smoothing (of different k values\n",
        "bigram_add_k_perplexity = bigram_model.perplexity(validation_corpus, smoothing_method='add_k', k=0.1)\n",
        "print(f\"Bigram model perplexity with add-k (k=0.1) smoothing: {bigram_add_k_perplexity}\")\n",
        "\n",
        "bigram_add_k_perplexity = bigram_model.perplexity(validation_corpus, smoothing_method='add_k', k=0.05)\n",
        "print(f\"Bigram model perplexity with add-k (k=0.05) smoothing: {bigram_add_k_perplexity}\")\n",
        "\n",
        "bigram_add_k_perplexity = bigram_model.perplexity(validation_corpus, smoothing_method='add_k', k=0.01)\n",
        "print(f\"Bigram model perplexity with add-k (k=0.01) smoothing: {bigram_add_k_perplexity}\")\n",
        "\n",
        "bigram_add_k_perplexity = bigram_model.perplexity(validation_corpus, smoothing_method='add_k', k=0.005)\n",
        "print(f\"Bigram model perplexity with add-k (k=0.005) smoothing: {bigram_add_k_perplexity}\")\n",
        "\n",
        "bigram_add_k_perplexity = bigram_model.perplexity(validation_corpus, smoothing_method='add_k', k=0.001)\n",
        "print(f\"Bigram model perplexity with add-k (k=0.001) smoothing: {bigram_add_k_perplexity}\")"
      ],
      "metadata": {
        "colab": {
          "base_uri": "https://localhost:8080/"
        },
        "id": "-ne7u1Jx_vbE",
        "outputId": "af6835e5-13a3-4329-fb9f-6920e864c39d"
      },
      "execution_count": null,
      "outputs": [
        {
          "output_type": "stream",
          "name": "stdout",
          "text": [
            "Unigram model perplexity with Laplace smoothing: 513.1057379235663\n",
            "Bigram model perplexity with Laplace smoothing: 1185.9514282057685\n",
            "Unigram model perplexity with add-k (k=0.1) smoothing: 537.4355160606028\n",
            "Unigram model perplexity with add-k (k=0.05) smoothing: 537.4355160606028\n",
            "Bigram model perplexity with add-k (k=0.1) smoothing: 487.6019068637717\n",
            "Bigram model perplexity with add-k (k=0.05) smoothing: 411.64061646859784\n",
            "Bigram model perplexity with add-k (k=0.01) smoothing: 347.2007493750673\n",
            "Bigram model perplexity with add-k (k=0.005) smoothing: 353.6475014052579\n",
            "Bigram model perplexity with add-k (k=0.001) smoothing: 438.774634101948\n"
          ]
        }
      ]
    },
    {
      "cell_type": "code",
      "source": [
        "import matplotlib.pyplot as plt\n",
        "\n",
        "bigram_add_001_perplexity = bigram_model.perplexity(validation_corpus, smoothing_method='add_k', k=0.01)\n",
        "bigram_add_01_perplexity = unigram_model.perplexity(validation_corpus, smoothing_method='add_k', k=0.05)\n",
        "\n",
        "perplexity_values = {\n",
        "\n",
        "\n",
        "\"Unsmoothed Unigram model perplexity\": unigram_perplexity,\n",
        "\"Laplace Unigram model perplexity\": unigram_laplace_perplexity,\n",
        "\"Unigram (+0.01) Model Perplexity\":unigram_add_005_perplexity,\n",
        "\"Unsmoothed Bigram model perplexity\": bigram_perplexity,\n",
        "\"Bigram (Laplace) Model Perplexity\": bigram_laplace_perplexity,\n",
        "\"Bigram (+0.01) Model Perplexity\": bigram_add_001_perplexity,\n",
        "}\n",
        "\n",
        "labels = list(perplexity_values.keys())\n",
        "values = list(perplexity_values.values())\n",
        "\n",
        "plt.figure(figsize=(10, 6))\n",
        "plt.barh(labels, values, color=\"skyblue\")\n",
        "plt.xlabel(\"Perplexity\")\n",
        "plt.title(\"Perplexity Comparison for Unigram and Bigram Models with Smoothing\")\n",
        "plt.tight_layout()\n",
        "\n",
        "plt.show()"
      ],
      "metadata": {
        "colab": {
          "base_uri": "https://localhost:8080/",
          "height": 515
        },
        "id": "gk0b4T1hmYiT",
        "outputId": "c9072648-20cf-4420-ba15-33ca637541fa"
      },
      "execution_count": null,
      "outputs": [
        {
          "output_type": "display_data",
          "data": {
            "text/plain": [
              "<Figure size 1000x600 with 1 Axes>"
            ],
            "image/png": "[encoded data removed]"
          },
          "metadata": {}
        }
      ]
    }
  ]
}