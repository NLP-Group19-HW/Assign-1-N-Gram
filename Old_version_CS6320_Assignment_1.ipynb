{
  "cells": [
    {
      "cell_type": "markdown",
      "metadata": {
        "id": "FC2eyodGc7uh"
      },
      "source": [
        "# Data Loading/Preprocessing\n",
        "\n",
        "Upload the `A1_DATASET.zip` file from eLearning to the files.\n",
        "\n",
        "## Preprocessing Explaination\n",
        "\n",
        "- Remove all other characters\n",
        "- Trim all remaining strings and filter out those that are empty\n"
      ]
    },
    {
      "cell_type": "code",
      "execution_count": null,
      "metadata": {
        "colab": {
          "base_uri": "https://localhost:8080/"
        },
        "id": "9Aa-hh3Nc-6u",
        "outputId": "714a7134-b405-47c5-f283-a88c6bb9fa86"
      },
      "outputs": [
        {
          "output_type": "stream",
          "name": "stdout",
          "text": [
            "Archive:  A1_DATASET.zip\n",
            "replace A1_DATASET/.DS_Store? [y]es, [n]o, [A]ll, [N]one, [r]ename: "
          ]
        }
      ],
      "source": [
        "!unzip A1_DATASET.zip"
      ]
    },
    {
      "cell_type": "code",
      "execution_count": null,
      "metadata": {
        "colab": {
          "base_uri": "https://localhost:8080/"
        },
        "id": "bfcZrxkLdRmY",
        "outputId": "9d788eac-5f9c-4b07-e4fa-0e82747876d1"
      },
      "outputs": [
        {
          "output_type": "execute_result",
          "data": {
            "text/plain": [
              "['I booked two rooms four months in advance at the Talbott . We were placed on the top floor next to the elevators , which are used all night long . When speaking to the front desk , I was told that they were simply honoring my request for an upper floor , which I had requested for a better view . I am looking at a brick wall , and getting no sleep . He also told me that they had received complaints before from guests on the 16th floor , and were aware of the noise problem . Why then did they place us on this floor when the hotel is not totally booked ? A request for an upper floor does not constitute placing someone on the TOP floor and using that request to justify this . If you decide to stay here , request a room on a lower floor and away from the elevator ! I spoke at length when booking my two rooms about my preferences . This is simply poor treatment of a guest whom they believed would not complain .',\n",
              " \"I LOVED this hotel . The room was so chic and trendy , the bed was comfortable , great slippers and robes . I love the Keihl 's bath products in the bathroom . We went during my birthday weekend , and they had a card and plate with pastries waiting in the room . We got a great deal on a junior suite from Travelzoo , but when we tried to take another trip to Chicago , the deal was gone . I really recommend the hotel . I LOVED it . The ONLY problem we had was with the David Burke Steakhouse . The service was horrible , they switched our order with the table next to our 's and the only compensation was they took off a $ 7 side dish we ordered ( and they were nice enough to NOT charge us for the other side dish we DID N'T get ) . DO N'T go there . Go to the Lawry 's accross the street . But stay at the James . ( BTW- its not a 3-star hotel like the website lists- its at least 4-star )\",\n",
              " \"The Hard Rock Hotel Chicago has become my favorite hotel . I 've stayed there at least 5 times now and have never had anything other than a wonderful experience . As you might have guessed - it has a super Rock & Roll theme , with some music paraphanelia in the lobby and on each floor 's elevator lobby . The rooms all have large photo murals that are themed to different musicians . You can request being on the floor of your favorite band ( like KISS , Aerosmith , etc ... ) The rooms are GREAT . Well appointed . SUPER Comfortable beds and luxurious sheets and wonderous pillows . The large TV has a cool sound system that ramps up the viewing experience . There 's a spacious desk in each room with a mini bar . I 've always had a room with big windows and a view down Michigan Ave ( the hotel sits right on Michigan - a block from the canal ) . The bathrooms are furnished with absolutely great fixtures sporting a great design ... some of the showers have windows in side of them ( you can shower AND enjoy the view down Michigan ! ) or close the waterproof drapes . I 've never had anything but a great experience with the staff here ... front desk , doorman , etc are all great . There 's a lobby bar that still feels intimate and has nice energy . Big screen TV to catch the latest scores , too . Of course , Rock & Roll music pumps thru the place . You can stay at a `` plain '' hotel anywhere ... but this is a GREAT , WELL DESIGNED , FUN and MEMORABLE HOTEL that you 'll want to return back to . If I had one concern - it would be the rather crazy charge for parking your car overnight . My daily car parking rate was close to $ 50 per night , which I 'm sorry to say is about the going rate in the loop . Stay here . Be cool .\"]"
            ]
          },
          "metadata": {},
          "execution_count": 9
        }
      ],
      "source": [
        "def read_file(path) -> list[str]:\n",
        "    \"\"\"Read in a file and return a list of lines.\"\"\"\n",
        "    with open(path, 'r') as f:\n",
        "        lines = [line.rstrip() for line in f]\n",
        "    return lines\n",
        "\n",
        "input_train = read_file('A1_DATASET/train.txt')\n",
        "input_val = read_file('A1_DATASET/val.txt')\n",
        "input_train[:3]"
      ]
    },
    {
      "cell_type": "code",
      "execution_count": null,
      "metadata": {
        "id": "jneZzsfLgEM8"
      },
      "outputs": [],
      "source": [
        "def clean_str(input: str) -> str:\n",
        "    \"\"\"Remove all but spaces and alpha\"\"\"\n",
        "    input = input.lower().replace('/', ' ')\n",
        "    return ''.join(char for char in input if char.isalpha() or char in \" \").strip()\n",
        "\n",
        "\n",
        "def preprocess(input: list[str]) -> list[list[str]]:\n",
        "    \"\"\"Preprocess the input data according to a set of rules.\"\"\"\n",
        "    input = map(clean_str, input)\n",
        "    return list(filter(lambda line: line != '', map(lambda line: line.split(), input)))"
      ]
    },
    {
      "cell_type": "code",
      "execution_count": null,
      "metadata": {
        "colab": {
          "base_uri": "https://localhost:8080/"
        },
        "id": "5q7RzN9fq8VC",
        "outputId": "2a4ddf7d-0b4a-49ae-84b9-c51aee32dafd"
      },
      "outputs": [
        {
          "output_type": "execute_result",
          "data": {
            "text/plain": [
              "(['i',\n",
              "  'booked',\n",
              "  'two',\n",
              "  'rooms',\n",
              "  'four',\n",
              "  'months',\n",
              "  'in',\n",
              "  'advance',\n",
              "  'at',\n",
              "  'the',\n",
              "  'talbott',\n",
              "  'we',\n",
              "  'were',\n",
              "  'placed',\n",
              "  'on',\n",
              "  'the',\n",
              "  'top',\n",
              "  'floor',\n",
              "  'next',\n",
              "  'to'],\n",
              " ['i',\n",
              "  'stayed',\n",
              "  'for',\n",
              "  'four',\n",
              "  'nights',\n",
              "  'while',\n",
              "  'attending',\n",
              "  'a',\n",
              "  'conference',\n",
              "  'the',\n",
              "  'hotel',\n",
              "  'is',\n",
              "  'in',\n",
              "  'a',\n",
              "  'great',\n",
              "  'spot',\n",
              "  'easy',\n",
              "  'walk',\n",
              "  'to',\n",
              "  'michigan'])"
            ]
          },
          "metadata": {},
          "execution_count": 11
        }
      ],
      "source": [
        "train = preprocess(input_train)\n",
        "val = preprocess(input_val)\n",
        "train[0][:20], val[0][:20]"
      ]
    },
    {
      "cell_type": "markdown",
      "metadata": {
        "id": "RVx4tQr3c1aa"
      },
      "source": [
        "# Unsmoothed N-grams\n",
        "\n",
        "We will calculate the unigram and bigram counts of the training set, where the unigram counts is stored in a dictionary with `{word: count}` and bigrams are stored in a dictionary with `{(word1, word2): count}`.\n",
        "\n",
        "Then, we'll use the formulas for calculating the unigram/bigram probability models."
      ]
    },
    {
      "cell_type": "code",
      "execution_count": null,
      "metadata": {
        "id": "CwkzCFGnbxgG"
      },
      "outputs": [],
      "source": [
        "unigram_counts = {}\n",
        "bigram_counts = {}\n",
        "\n",
        "# Compute unigram counts\n",
        "for line in train:\n",
        "    for word in line:\n",
        "        if word in unigram_counts:\n",
        "            unigram_counts[word] += 1\n",
        "        else:\n",
        "            unigram_counts[word] = 1\n",
        "\n",
        "# Compute bigram counts\n",
        "for line in train:\n",
        "    for i in range(len(line) - 1):\n",
        "        bigram = (line[i], line[i + 1])\n",
        "        if bigram in bigram_counts:\n",
        "            bigram_counts[bigram] += 1\n",
        "        else:\n",
        "            bigram_counts[bigram] = 1\n",
        "\n",
        "# Compute unigram and bigrams probabilities model\n",
        "# For unigrams, it's simply the count of word / total number of words\n",
        "# For bigrams, it's Count(A, B) / Count(A)\n",
        "unigram_probs = {word: count / sum(unigram_counts.values()) for word, count in unigram_counts.items()}\n",
        "bigram_probs = {bigram: count / unigram_counts[bigram[0]] for bigram, count in bigram_counts.items()}"
      ]
    },
    {
      "cell_type": "code",
      "execution_count": null,
      "metadata": {
        "colab": {
          "base_uri": "https://localhost:8080/"
        },
        "id": "IvfJndimlgzB",
        "outputId": "fb779c15-0702-441d-83b5-6b7510398a84"
      },
      "outputs": [
        {
          "output_type": "stream",
          "name": "stdout",
          "text": [
            "0.06739116619002225\n",
            "0.07808374198415692\n",
            "[('the', 0.06739116619002225), ('and', 0.03298379408960915), ('a', 0.028573244359707657), ('to', 0.026564982523037815), ('was', 0.023209405783285668), ('i', 0.021773117254528122), ('in', 0.01604067365745154), ('we', 0.014197648554178583), ('of', 0.013295201779472514), ('hotel', 0.013180807117890055)]\n",
            "[(('honoring', 'my'), 1.0), (('constitute', 'placing'), 1.0), (('placing', 'someone'), 1.0), (('justify', 'this'), 1.0), (('decide', 'to'), 1.0), (('preferences', 'this'), 1.0), (('believed', 'would'), 1.0), (('keihl', 's'), 1.0), (('junior', 'suite'), 1.0), (('lawry', 's'), 1.0)]\n"
          ]
        }
      ],
      "source": [
        "print(unigram_probs['the'])\n",
        "print(bigram_probs[('the', 'hotel')])\n",
        "\n",
        "# Print top 10 probable words in both models\n",
        "print(sorted(unigram_probs.items(), key=lambda x: x[1], reverse=True)[:10])\n",
        "print(sorted(bigram_probs.items(), key=lambda x: x[1], reverse=True)[:10])"
      ]
    },
    {
      "cell_type": "code",
      "source": [
        "len(unigram_counts)"
      ],
      "metadata": {
        "colab": {
          "base_uri": "https://localhost:8080/"
        },
        "id": "0dVZyV9FWqxm",
        "outputId": "c5dab087-9266-4139-e496-d4df6e87ed2f"
      },
      "execution_count": null,
      "outputs": [
        {
          "output_type": "execute_result",
          "data": {
            "text/plain": [
              "5871"
            ]
          },
          "metadata": {},
          "execution_count": 24
        }
      ]
    },
    {
      "cell_type": "code",
      "source": [
        "sum(unigram_counts.values())"
      ],
      "metadata": {
        "colab": {
          "base_uri": "https://localhost:8080/"
        },
        "id": "OyLvrHsPWw7e",
        "outputId": "c5088de3-0b65-4b33-beca-faa1b0b3708e"
      },
      "execution_count": null,
      "outputs": [
        {
          "output_type": "execute_result",
          "data": {
            "text/plain": [
              "78675"
            ]
          },
          "metadata": {},
          "execution_count": 25
        }
      ]
    },
    {
      "cell_type": "code",
      "source": [
        "print(sorted(unigram_counts.items(), key=lambda x: x[1], reverse=True)[:10])"
      ],
      "metadata": {
        "colab": {
          "base_uri": "https://localhost:8080/"
        },
        "id": "1YRGkQ1TW4Fs",
        "outputId": "d433c19e-c78b-46cc-95f8-0d3a424a1ac5"
      },
      "execution_count": null,
      "outputs": [
        {
          "output_type": "stream",
          "name": "stdout",
          "text": [
            "[('the', 5302), ('and', 2595), ('a', 2248), ('to', 2090), ('was', 1826), ('i', 1713), ('in', 1262), ('we', 1117), ('of', 1046), ('hotel', 1037)]\n"
          ]
        }
      ]
    },
    {
      "cell_type": "code",
      "source": [
        "unigram_counts.get('is')"
      ],
      "metadata": {
        "colab": {
          "base_uri": "https://localhost:8080/"
        },
        "id": "v38UPXhtakkV",
        "outputId": "027f96bf-9d67-4d56-bc02-a0dcc5095b09"
      },
      "execution_count": null,
      "outputs": [
        {
          "output_type": "execute_result",
          "data": {
            "text/plain": [
              "837"
            ]
          },
          "metadata": {},
          "execution_count": 41
        }
      ]
    },
    {
      "cell_type": "code",
      "source": [
        "print(unigram_probs['the'])\n",
        "print(unigram_counts['the'])\n",
        "print(bigram_counts[('the', 'hotel')])\n",
        "print(bigram_probs[('the', 'hotel')])\n",
        "print(bigram_counts[('hotel', 'is')])\n",
        "print(unigram_counts['hotel'])\n",
        "print(bigram_probs[('hotel', 'is')])\n",
        "\n",
        "# Print top 10 probable words in both models\n",
        "print(sorted(unigram_probs.items(), key=lambda x: x[1], reverse=True)[:10])\n",
        "print(sorted(bigram_probs.items(), key=lambda x: x[1], reverse=True)[:10])"
      ],
      "metadata": {
        "colab": {
          "base_uri": "https://localhost:8080/"
        },
        "id": "CJ9y4iZvTaXf",
        "outputId": "2e5471d6-3020-4ad1-89de-69094e98a871"
      },
      "execution_count": null,
      "outputs": [
        {
          "output_type": "stream",
          "name": "stdout",
          "text": [
            "0.06739116619002225\n",
            "5302\n",
            "414\n",
            "0.07808374198415692\n",
            "112\n",
            "1037\n",
            "0.10800385728061716\n",
            "[('the', 0.06739116619002225), ('and', 0.03298379408960915), ('a', 0.028573244359707657), ('to', 0.026564982523037815), ('was', 0.023209405783285668), ('i', 0.021773117254528122), ('in', 0.01604067365745154), ('we', 0.014197648554178583), ('of', 0.013295201779472514), ('hotel', 0.013180807117890055)]\n",
            "[(('honoring', 'my'), 1.0), (('constitute', 'placing'), 1.0), (('placing', 'someone'), 1.0), (('justify', 'this'), 1.0), (('decide', 'to'), 1.0), (('preferences', 'this'), 1.0), (('believed', 'would'), 1.0), (('keihl', 's'), 1.0), (('junior', 'suite'), 1.0), (('lawry', 's'), 1.0)]\n"
          ]
        }
      ]
    },
    {
      "cell_type": "markdown",
      "metadata": {
        "id": "c6S3YGbhj7UL"
      },
      "source": [
        "# Smoothing\n",
        "\n",
        "To handle unknown words, we replace them with the `<UNKNOWN>` keyword.\n",
        "\n",
        "We will apply Laplace Smoothing (takes ~52 secs). Additionally, we will apply +2 Smoothing."
      ]
    },
    {
      "cell_type": "code",
      "execution_count": null,
      "metadata": {
        "id": "5P3M1-XIn7ij"
      },
      "outputs": [],
      "source": [
        "# Add <UNKNOWN> keyword\n",
        "unigram_counts['<UNKNOWN>'] = 0\n",
        "bigram_counts[('<UNKNOWN>', '<UNKNOWN>')] = 0"
      ]
    },
    {
      "cell_type": "code",
      "execution_count": null,
      "metadata": {
        "id": "acokRncOjt2-"
      },
      "outputs": [],
      "source": [
        "# Generate list of bigram probabilities with Laplace Smoothing\n",
        "bigram_probs_smoothed = {}\n",
        "\n",
        "unigram_list = list(unigram_counts.keys())\n",
        "\n",
        "for v in unigram_list:\n",
        "    for k in unigram_list:\n",
        "        bigram_probs_smoothed[(v, k)] = (bigram_counts.get((v, k), 0) + 1) / (unigram_counts.get(v, 0) + len(unigram_counts))"
      ]
    },
    {
      "cell_type": "code",
      "execution_count": null,
      "metadata": {
        "id": "6yJCtC5PqNUd"
      },
      "outputs": [],
      "source": [
        "# Generate list of bigram probabilities with +2 Smoothing\n",
        "bigram_probs_smoothed_k = {}\n",
        "\n",
        "unigram_list = list(unigram_counts.keys())\n",
        "\n",
        "for v in unigram_list:\n",
        "    for k in unigram_list:\n",
        "        bigram_probs_smoothed_k[(v, k)] = (bigram_counts.get((v, k), 0) + 0.05) / (unigram_counts.get(v, 0) + 0.05 * len(unigram_counts))"
      ]
    },
    {
      "cell_type": "code",
      "execution_count": null,
      "metadata": {
        "colab": {
          "base_uri": "https://localhost:8080/"
        },
        "id": "nXbuxG8soG8o",
        "outputId": "037058d4-72c8-4bb5-9460-da4b113e37b3"
      },
      "outputs": [
        {
          "output_type": "stream",
          "name": "stdout",
          "text": [
            "0.03714311286136221\n",
            "0.07399630063175201\n"
          ]
        }
      ],
      "source": [
        "print(bigram_probs_smoothed[('the', 'hotel')])\n",
        "print(bigram_probs_smoothed_k[('the', 'hotel')])"
      ]
    },
    {
      "cell_type": "markdown",
      "metadata": {
        "id": "En2MW8M4mgFl"
      },
      "source": [
        "# Perplexity Calculation"
      ]
    },
    {
      "cell_type": "code",
      "execution_count": null,
      "metadata": {
        "id": "Wv1WdyC0qbAT"
      },
      "outputs": [],
      "source": [
        "import math\n",
        "\n",
        "def calculate_perplexity(probabilities, validation_set, is_bigram=False):\n",
        "    total_log_prob = 0\n",
        "    token_count = 0\n",
        "\n",
        "    for line in validation_set:\n",
        "        for i, word in enumerate(line):\n",
        "            if is_bigram and i > 0:\n",
        "                # For bigram model\n",
        "                prev_word = line[i-1]\n",
        "                prob = probabilities.get((prev_word, word), probabilities.get(('<UNKNOWN>', '<UNKNOWN>'), 1e-10))\n",
        "            else:\n",
        "                # For unigram model\n",
        "                prob = probabilities.get(word, probabilities.get('<UNKNOWN>', 1e-10))\n",
        "\n",
        "            print(prob)\n",
        "            total_log_prob += -math.log(prob)\n",
        "            token_count += 1\n",
        "\n",
        "    average_log_prob = total_log_prob / token_count\n",
        "    perplexity = math.exp(average_log_prob)\n",
        "    return perplexity\n"
      ]
    },
    {
      "cell_type": "code",
      "source": [
        "small_corpus = preprocess([\"the hotel is\"])\n",
        "calculate_perplexity(bigram_probs, small_corpus, is_bigram=True)"
      ],
      "metadata": {
        "colab": {
          "base_uri": "https://localhost:8080/"
        },
        "id": "OKtEbgvzYfBv",
        "outputId": "cd5a1a5a-4a7f-4ba0-cb74-5062b98d5991"
      },
      "execution_count": null,
      "outputs": [
        {
          "output_type": "stream",
          "name": "stdout",
          "text": [
            "1e-10\n",
            "0.07808374198415692\n",
            "0.10800385728061716\n"
          ]
        },
        {
          "output_type": "execute_result",
          "data": {
            "text/plain": [
              "10584.411240539148"
            ]
          },
          "metadata": {},
          "execution_count": 34
        }
      ]
    },
    {
      "cell_type": "code",
      "source": [
        "small_corpus"
      ],
      "metadata": {
        "colab": {
          "base_uri": "https://localhost:8080/"
        },
        "id": "GGBxiOS0ZtA7",
        "outputId": "21ef5c61-11e7-4a91-ba38-2d7cc4a3ff94"
      },
      "execution_count": null,
      "outputs": [
        {
          "output_type": "execute_result",
          "data": {
            "text/plain": [
              "[['the', 'hotel', 'is']]"
            ]
          },
          "metadata": {},
          "execution_count": 35
        }
      ]
    },
    {
      "cell_type": "code",
      "execution_count": null,
      "metadata": {
        "id": "pcVT5hP9x93D",
        "colab": {
          "base_uri": "https://localhost:8080/"
        },
        "outputId": "6d721e40-9bfc-4bf0-bc3a-c6d6dbbb6037"
      },
      "outputs": [
        {
          "output_type": "stream",
          "name": "stdout",
          "text": [
            "Unsmoothed Unigram model perplexity: 500.7022541594261\n",
            "Unsmoothed Bigram model perplexity: 35.0589674740015\n",
            "Bigram (Laplace) Model Perplexity: 1018.151812708026\n",
            "Bigram (+0.05) Model Perplexity: 152.91736087371228\n"
          ]
        }
      ],
      "source": [
        "# Calculate perplexity for unigram model\n",
        "unigram_perplexity_train = calculate_perplexity(unigram_probs, train)\n",
        "\n",
        "# Calculate perplexity for bigram model\n",
        "bigram_perplexity_train = calculate_perplexity(bigram_probs, train, is_bigram=True)\n",
        "\n",
        "# Calculate perplexity for Laplace bigram model\n",
        "bigram_smoothed_perplexity_train = calculate_perplexity(bigram_probs_smoothed, train, is_bigram=True)\n",
        "\n",
        "# Calculate perplexity for Add-k bigram model\n",
        "bigram_smoothedk_perplexity_train = calculate_perplexity(bigram_probs_smoothed_k, train, is_bigram=True)\n",
        "\n",
        "\n",
        "print(f\"Unsmoothed Unigram model perplexity: {unigram_perplexity_train}\")\n",
        "print(f\"Unsmoothed Bigram model perplexity: {bigram_perplexity_train}\")\n",
        "print(f\"Bigram (Laplace) Model Perplexity: {bigram_smoothed_perplexity_train}\")\n",
        "print(f\"Bigram (+0.05) Model Perplexity: {bigram_smoothedk_perplexity_train}\")\n"
      ]
    },
    {
      "cell_type": "code",
      "source": [
        "# Calculate perplexity for unigram model\n",
        "unigram_perplexity_valid = calculate_perplexity(unigram_probs, val)\n",
        "\n",
        "# Calculate perplexity for bigram model\n",
        "bigram_perplexity_valid = calculate_perplexity(bigram_probs, val, is_bigram=True)\n",
        "\n",
        "# Calculate perplexity for Laplace-smoothed bigram model\n",
        "bigram_smoothed_perplexity_valid = calculate_perplexity(bigram_probs_smoothed, val, is_bigram=True)\n",
        "\n",
        "# Calculate perplexity for Add-k-smoothed bigram model\n",
        "bigram_smoothedk_perplexity_valid = calculate_perplexity(bigram_probs_smoothed_k, val, is_bigram=True)\n",
        "\n",
        "\n",
        "print(f\"Unigram Model Perplexity: {unigram_perplexity_valid}\")\n",
        "print(f\"Bigram Model Perplexity: {bigram_perplexity_valid}\")\n",
        "print(f\"Bigram (Laplace Smoothing) Model Perplexity: {bigram_smoothed_perplexity_valid}\")\n",
        "print(f\"Bigram (+0.05 Smoothing) Model Perplexity: {bigram_smoothedk_perplexity_valid}\")"
      ],
      "metadata": {
        "colab": {
          "base_uri": "https://localhost:8080/"
        },
        "id": "5dNLB5H8qLMH",
        "outputId": "8e4e8b49-8aa0-4da2-8d30-0d703bc836f8"
      },
      "execution_count": null,
      "outputs": [
        {
          "output_type": "stream",
          "name": "stdout",
          "text": [
            "Unigram Model Perplexity: 729.0068112574407\n",
            "Bigram Model Perplexity: 30355.48594886052\n",
            "Bigram (Laplace Smoothing) Model Perplexity: 1384.1037358070637\n",
            "Bigram (+0.05 Smoothing) Model Perplexity: 467.3276179108557\n"
          ]
        }
      ]
    },
    {
      "cell_type": "code",
      "source": [
        "import pandas as pd\n",
        "\n",
        "# Provided perplexity values in the form of variables\n",
        "perplexity_values = {\n",
        "    \"Unsmoothed Unigram model perplexity (Train)\": unigram_perplexity_train,\n",
        "    \"Unsmoothed Bigram model perplexity (Train)\": bigram_perplexity_train,\n",
        "    \"Bigram (Laplace) Model Perplexity (Train)\": bigram_smoothed_perplexity_train,\n",
        "    \"Bigram (+0.05) Model Perplexity (Train)\": bigram_smoothedk_perplexity_train,\n",
        "    \"Unigram Model Perplexity (Validation)\": unigram_perplexity_valid,\n",
        "    \"Bigram Model Perplexity (Validation)\": bigram_perplexity_valid,\n",
        "    \"Bigram (Laplace Smoothing) Model Perplexity (Validation)\": bigram_smoothed_perplexity_valid,\n",
        "    \"Bigram (+0.05 Smoothing) Model Perplexity (Validation)\": bigram_smoothedk_perplexity_valid\n",
        "}\n",
        "\n",
        "# Restructure into a format where rows represent Unigram/Bigram and columns represent smoothing strategies\n",
        "perplexity_data = {\n",
        "    \"Unsmoothed (Train)\": [perplexity_values[\"Unsmoothed Unigram model perplexity (Train)\"],\n",
        "                           perplexity_values[\"Unsmoothed Bigram model perplexity (Train)\"]],\n",
        "    \"Laplace Smoothing (Train)\": [None, perplexity_values[\"Bigram (Laplace) Model Perplexity (Train)\"]],\n",
        "    \"+0.05 Smoothing (Train)\": [None, perplexity_values[\"Bigram (+0.05) Model Perplexity (Train)\"]],\n",
        "    \"Unsmoothed (Validation)\": [perplexity_values[\"Unigram Model Perplexity (Validation)\"],\n",
        "                                perplexity_values[\"Bigram Model Perplexity (Validation)\"]],\n",
        "    \"Laplace Smoothing (Validation)\": [None, perplexity_values[\"Bigram (Laplace Smoothing) Model Perplexity (Validation)\"]],\n",
        "    \"+0.05 Smoothing (Validation)\": [None, perplexity_values[\"Bigram (+0.05 Smoothing) Model Perplexity (Validation)\"]]\n",
        "}\n",
        "\n",
        "# Define the row index as Unigram and Bigram\n",
        "row_labels = [\"Unigram\", \"Bigram\"]\n",
        "\n",
        "# Create the DataFrame\n",
        "perplexity_df = pd.DataFrame(perplexity_data, index=row_labels)\n",
        "\n",
        "# Beautify the table with borders\n",
        "print(perplexity_df.to_markdown(tablefmt=\"grid\"))"
      ],
      "metadata": {
        "colab": {
          "base_uri": "https://localhost:8080/"
        },
        "id": "-_SYDFm17pv8",
        "outputId": "72907d49-7dcc-45f0-9fe0-f5db25979c35"
      },
      "execution_count": null,
      "outputs": [
        {
          "output_type": "stream",
          "name": "stdout",
          "text": [
            "+---------+----------------------+-----------------------------+---------------------------+---------------------------+----------------------------------+--------------------------------+\n",
            "|         |   Unsmoothed (Train) |   Laplace Smoothing (Train) |   +0.05 Smoothing (Train) |   Unsmoothed (Validation) |   Laplace Smoothing (Validation) |   +0.05 Smoothing (Validation) |\n",
            "+=========+======================+=============================+===========================+===========================+==================================+================================+\n",
            "| Unigram |              500.702 |                      nan    |                   nan     |                   729.007 |                            nan   |                        nan     |\n",
            "+---------+----------------------+-----------------------------+---------------------------+---------------------------+----------------------------------+--------------------------------+\n",
            "| Bigram  |               35.059 |                     1018.15 |                   152.917 |                 30355.5   |                           1384.1 |                        467.328 |\n",
            "+---------+----------------------+-----------------------------+---------------------------+---------------------------+----------------------------------+--------------------------------+\n"
          ]
        }
      ]
    },
    {
      "cell_type": "code",
      "source": [
        "import matplotlib.pyplot as plt\n",
        "\n",
        "perplexity_values = {\n",
        "\n",
        "\n",
        "\"Unsmoothed Unigram model perplexity\": unigram_perplexity_train,\n",
        "\"Unsmoothed Bigram model perplexity\": bigram_perplexity_train,\n",
        "\"Bigram (Laplace) Model Perplexity\": bigram_smoothed_perplexity_train,\n",
        "\"Bigram (+0.05) Model Perplexity\": bigram_smoothedk_perplexity_train,\n",
        "\"Unigram Model Perplexity\": unigram_perplexity_valid,\n",
        "\"Bigram Model Perplexity\": bigram_perplexity_valid,\n",
        "\"Bigram (Laplace Smoothing) Model Perplexity\": bigram_smoothed_perplexity_valid,\n",
        "\"Bigram (+0.05 Smoothing) Model Perplexity\": bigram_smoothedk_perplexity_valid\n",
        "}\n",
        "\n",
        "labels = list(perplexity_values.keys())\n",
        "values = list(perplexity_values.values())\n",
        "\n",
        "plt.figure(figsize=(10, 6))\n",
        "plt.barh(labels, values, color=\"skyblue\")\n",
        "plt.xlabel(\"Perplexity\")\n",
        "plt.title(\"Perplexity Comparison for Unigram and Bigram Models with Smoothing\")\n",
        "plt.tight_layout()\n",
        "\n",
        "plt.show()"
      ],
      "metadata": {
        "colab": {
          "base_uri": "https://localhost:8080/",
          "height": 607
        },
        "id": "UOzlEtrHxkXe",
        "outputId": "26b8eaba-d23b-4f78-c363-5918b057a0b8"
      },
      "execution_count": null,
      "outputs": [
        {
          "output_type": "display_data",
          "data": {
            "text/plain": [
              "<Figure size 1000x600 with 1 Axes>"
            ],
            "image/png": "[encoded data removed]"
          },
          "metadata": {}
        }
      ]
    }
  ],
  "metadata": {
    "colab": {
      "provenance": []
    },
    "kernelspec": {
      "display_name": "Python 3",
      "name": "python3"
    },
    "language_info": {
      "name": "python"
    }
  },
  "nbformat": 4,
  "nbformat_minor": 0
}